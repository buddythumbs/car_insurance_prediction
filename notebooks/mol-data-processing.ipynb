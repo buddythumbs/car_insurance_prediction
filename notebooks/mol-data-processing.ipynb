{
 "cells": [
  {
   "cell_type": "code",
   "execution_count": 3,
   "id": "amended-supervision",
   "metadata": {},
   "outputs": [
    {
     "name": "stdout",
     "output_type": "stream",
     "text": [
      "The autoreload extension is already loaded. To reload it, use:\n",
      "  %reload_ext autoreload\n"
     ]
    }
   ],
   "source": [
    "%load_ext autoreload\n",
    "%autoreload 2\n",
    "import warnings\n",
    "warnings.filterwarnings('ignore')"
   ]
  },
  {
   "cell_type": "code",
   "execution_count": 7,
   "id": "atmospheric-height",
   "metadata": {},
   "outputs": [],
   "source": [
    "import xgboost as xgb\n",
    "import numpy as np\n",
    "import hashlib\n",
    "import pandas as pd\n",
    "from sklearn.impute import SimpleImputer\n",
    "from sklearn.pipeline import Pipeline, FeatureUnion\n",
    "from sklearn.preprocessing import StandardScaler, OneHotEncoder\n",
    "from sklearn.compose import ColumnTransformer\n",
    "from sklearn.metrics import accuracy_score, confusion_matrix, auc\n",
    "from sklearn.model_selection import train_test_split\n",
    "from trainer_lib.transformers import CategoricalLimitTransformer\n",
    "from trainer_lib.transformers import SelectFeaturesTransfomer\n",
    "from trainer_lib.transformers import CallDurationTransformer \n",
    "from trainer_lib.transformers import TimeOfDayTransformer\n",
    "from trainer_lib.transformers import MonthNameTransformer\n",
    "from trainer_lib.transformers import EducationTransformer\n",
    "from trainer_lib.transformers import DatasetCleanerPipeline\n",
    "from trainer_lib.transformers import OutcomeTransformer"
   ]
  },
  {
   "cell_type": "code",
   "execution_count": 12,
   "id": "minus-champion",
   "metadata": {},
   "outputs": [],
   "source": [
    "from trainer_lib import DataManager\n",
    "np.random.seed(12345)\n",
    "# The instantiation will fetch data and docs if it is the first time being run\n",
    "mngr = DataManager(save_path=\"../data/raw/\", report_path=\"../reports/\")\n",
    "X,y = mngr.train\n",
    "X_train, X_test, y_train, y_test = mngr.train_test"
   ]
  },
  {
   "cell_type": "code",
   "execution_count": 13,
   "id": "valid-shooting",
   "metadata": {},
   "outputs": [
    {
     "data": {
      "text/plain": [
       "'39b2065117b0a441fe4539e0e77d3961a27793bf'"
      ]
     },
     "execution_count": 13,
     "metadata": {},
     "output_type": "execute_result"
    }
   ],
   "source": [
    "hashlib.sha1(pd.util.hash_pandas_object(X_train).values).hexdigest() "
   ]
  },
  {
   "cell_type": "code",
   "execution_count": 84,
   "id": "comic-software",
   "metadata": {},
   "outputs": [
    {
     "data": {
      "text/plain": [
       "array(['management', 'blue-collar', 'student', 'technician', 'admin.',\n",
       "       'services', 'self-employed', 'retired', nan, 'housemaid',\n",
       "       'entrepreneur', 'unemployed'], dtype=object)"
      ]
     },
     "execution_count": 84,
     "metadata": {},
     "output_type": "execute_result"
    }
   ],
   "source": [
    "X.Job.unique()"
   ]
  },
  {
   "cell_type": "code",
   "execution_count": 81,
   "id": "aerial-sympathy",
   "metadata": {},
   "outputs": [],
   "source": [
    "# Model columns\n",
    "ONE_HOT_CATEGORICAL_COLUMNS = [\n",
    "    \"Job\",\n",
    "    \"Marital\", \n",
    "    \"Communication\", \n",
    "    \"CallTimeOfDay\"\n",
    "]\n",
    "\n",
    "SCALABLE_NUMERIC_COLUMNS = [\n",
    "    \"Age\",\n",
    "    \"Balance\", \n",
    "]\n",
    "\n",
    "NUMERIC_COLUMNS = [\n",
    "    \"LastContactDay\", \n",
    "    \"LastContactMonth\",\n",
    "    \"NoOfContacts\", \n",
    "    \"DaysPassed\", \n",
    "    \"PrevAttempts\",\n",
    "    \"CallDurationMins\",\n",
    "    \"Education\"\n",
    "]\n",
    "\n",
    "BINARY_COLUMNS = [\n",
    "    \"Default\", \n",
    "    \"HHInsurance\",\n",
    "    \"CarLoan\",\n",
    "    \"Outcome\"\n",
    "]\n",
    "\n",
    "# All model columns \n",
    "ALL_COLUMNS = ONE_HOT_CATEGORICAL_COLUMNS + SCALABLE_NUMERIC_COLUMNS + NUMERIC_COLUMNS + BINARY_COLUMNS\n",
    "\n",
    "# Get categorical and numeric column names\n",
    "# Feature engineering pipeline\n",
    "\n",
    "feature_engineering = Pipeline([\n",
    "    (\"category_trimmer\", CategoricalLimitTransformer(3, features=['Job'])),\n",
    "    (\"add_time_duration\", CallDurationTransformer()),\n",
    "    (\"add_time_of_day\", TimeOfDayTransformer()),\n",
    "    (\"convert_month\", MonthNameTransformer()),\n",
    "    (\"convert_education\", EducationTransformer()),\n",
    "    (\"convert_outcome\", OutcomeTransformer()),\n",
    "    # The missing data handling is included AFTER the columns transformations here     \n",
    "    (\"impute_missing\", DatasetCleanerPipeline()),\n",
    "    (\"column_selection\", SelectFeaturesTransfomer(features=ALL_COLUMNS))\n",
    "])"
   ]
  },
  {
   "cell_type": "code",
   "execution_count": 75,
   "id": "corporate-government",
   "metadata": {},
   "outputs": [
    {
     "data": {
      "text/plain": [
       "Pipeline(steps=[('category_trimmer',\n",
       "                 CategoricalLimitTransformer(features=['Job'], n=3)),\n",
       "                ('add_time_duration', CallDurationTransformer()),\n",
       "                ('add_time_of_day', TimeOfDayTransformer()),\n",
       "                ('convert_month', MonthNameTransformer()),\n",
       "                ('convert_education', EducationTransformer()),\n",
       "                ('convert_outcome', OutcomeTransformer()),\n",
       "                ('impute_missing',\n",
       "                 DatasetCleanerPipeline(conf...'strategy': 'median'}, 'Outcome': {'strategy': 'constant', 'fill_value': 0}})),\n",
       "                ('column_selection',\n",
       "                 SelectFeaturesTransfomer(features=['Job', 'Marital',\n",
       "                                                    'Communication',\n",
       "                                                    'CallTimeOfDay', 'Age',\n",
       "                                                    'Balance', 'LastContactDay',\n",
       "                                                    'LastContactMonth',\n",
       "                                                    'NoOfContacts',\n",
       "                                                    'DaysPassed',\n",
       "                                                    'PrevAttempts',\n",
       "                                                    'CallDurationMins',\n",
       "                                                    'Education', 'Default',\n",
       "                                                    'HHInsurance', 'CarLoan',\n",
       "                                                    'Outcome']))])"
      ]
     },
     "execution_count": 75,
     "metadata": {},
     "output_type": "execute_result"
    }
   ],
   "source": [
    "feature_engineering"
   ]
  },
  {
   "cell_type": "code",
   "execution_count": 82,
   "id": "cutting-commodity",
   "metadata": {},
   "outputs": [],
   "source": [
    "processed = feature_engineering.fit_transform(X_train)"
   ]
  },
  {
   "cell_type": "code",
   "execution_count": 71,
   "id": "pacific-david",
   "metadata": {},
   "outputs": [
    {
     "data": {
      "text/plain": [
       "0.0    2936\n",
       "1.0     264\n",
       "Name: Outcome, dtype: int64"
      ]
     },
     "execution_count": 71,
     "metadata": {},
     "output_type": "execute_result"
    }
   ],
   "source": [
    "processed.Outcome.value_counts()"
   ]
  },
  {
   "cell_type": "code",
   "execution_count": 77,
   "id": "extended-latex",
   "metadata": {},
   "outputs": [
    {
     "data": {
      "text/plain": [
       "803      1\n",
       "2322     2\n",
       "383      3\n",
       "2790    21\n",
       "3562     1\n",
       "        ..\n",
       "3492     4\n",
       "2177     1\n",
       "3357    12\n",
       "3557    11\n",
       "482     11\n",
       "Name: CallDurationMins, Length: 3200, dtype: int64"
      ]
     },
     "execution_count": 77,
     "metadata": {},
     "output_type": "execute_result"
    }
   ],
   "source": [
    "processed.CallDurationMins.astype(int)"
   ]
  },
  {
   "cell_type": "code",
   "execution_count": 83,
   "id": "helpful-concept",
   "metadata": {},
   "outputs": [
    {
     "data": {
      "text/html": [
       "<div>\n",
       "<style scoped>\n",
       "    .dataframe tbody tr th:only-of-type {\n",
       "        vertical-align: middle;\n",
       "    }\n",
       "\n",
       "    .dataframe tbody tr th {\n",
       "        vertical-align: top;\n",
       "    }\n",
       "\n",
       "    .dataframe thead th {\n",
       "        text-align: right;\n",
       "    }\n",
       "</style>\n",
       "<table border=\"1\" class=\"dataframe\">\n",
       "  <thead>\n",
       "    <tr style=\"text-align: right;\">\n",
       "      <th></th>\n",
       "      <th>Job</th>\n",
       "      <th>Marital</th>\n",
       "      <th>Communication</th>\n",
       "      <th>CallTimeOfDay</th>\n",
       "      <th>Age</th>\n",
       "      <th>Balance</th>\n",
       "      <th>LastContactDay</th>\n",
       "      <th>LastContactMonth</th>\n",
       "      <th>NoOfContacts</th>\n",
       "      <th>DaysPassed</th>\n",
       "      <th>PrevAttempts</th>\n",
       "      <th>CallDurationMins</th>\n",
       "      <th>Education</th>\n",
       "      <th>Default</th>\n",
       "      <th>HHInsurance</th>\n",
       "      <th>CarLoan</th>\n",
       "      <th>Outcome</th>\n",
       "    </tr>\n",
       "  </thead>\n",
       "  <tbody>\n",
       "    <tr>\n",
       "      <th>803</th>\n",
       "      <td>other</td>\n",
       "      <td>married</td>\n",
       "      <td>other</td>\n",
       "      <td>afternoon</td>\n",
       "      <td>57</td>\n",
       "      <td>197</td>\n",
       "      <td>16</td>\n",
       "      <td>6</td>\n",
       "      <td>1</td>\n",
       "      <td>-1</td>\n",
       "      <td>0</td>\n",
       "      <td>1</td>\n",
       "      <td>2.0</td>\n",
       "      <td>0</td>\n",
       "      <td>0</td>\n",
       "      <td>0</td>\n",
       "      <td>0.0</td>\n",
       "    </tr>\n",
       "    <tr>\n",
       "      <th>2322</th>\n",
       "      <td>management</td>\n",
       "      <td>married</td>\n",
       "      <td>cellular</td>\n",
       "      <td>afternoon</td>\n",
       "      <td>52</td>\n",
       "      <td>751</td>\n",
       "      <td>14</td>\n",
       "      <td>5</td>\n",
       "      <td>4</td>\n",
       "      <td>371</td>\n",
       "      <td>5</td>\n",
       "      <td>2</td>\n",
       "      <td>3.0</td>\n",
       "      <td>0</td>\n",
       "      <td>0</td>\n",
       "      <td>0</td>\n",
       "      <td>0.0</td>\n",
       "    </tr>\n",
       "    <tr>\n",
       "      <th>383</th>\n",
       "      <td>technician</td>\n",
       "      <td>married</td>\n",
       "      <td>cellular</td>\n",
       "      <td>afternoon</td>\n",
       "      <td>35</td>\n",
       "      <td>249</td>\n",
       "      <td>21</td>\n",
       "      <td>8</td>\n",
       "      <td>8</td>\n",
       "      <td>-1</td>\n",
       "      <td>0</td>\n",
       "      <td>3</td>\n",
       "      <td>2.0</td>\n",
       "      <td>0</td>\n",
       "      <td>0</td>\n",
       "      <td>0</td>\n",
       "      <td>0.0</td>\n",
       "    </tr>\n",
       "    <tr>\n",
       "      <th>2790</th>\n",
       "      <td>technician</td>\n",
       "      <td>married</td>\n",
       "      <td>cellular</td>\n",
       "      <td>afternoon</td>\n",
       "      <td>49</td>\n",
       "      <td>412</td>\n",
       "      <td>19</td>\n",
       "      <td>8</td>\n",
       "      <td>8</td>\n",
       "      <td>-1</td>\n",
       "      <td>0</td>\n",
       "      <td>21</td>\n",
       "      <td>2.0</td>\n",
       "      <td>0</td>\n",
       "      <td>0</td>\n",
       "      <td>0</td>\n",
       "      <td>0.0</td>\n",
       "    </tr>\n",
       "    <tr>\n",
       "      <th>3562</th>\n",
       "      <td>technician</td>\n",
       "      <td>divorced</td>\n",
       "      <td>cellular</td>\n",
       "      <td>morning</td>\n",
       "      <td>45</td>\n",
       "      <td>1738</td>\n",
       "      <td>21</td>\n",
       "      <td>11</td>\n",
       "      <td>1</td>\n",
       "      <td>106</td>\n",
       "      <td>2</td>\n",
       "      <td>1</td>\n",
       "      <td>2.0</td>\n",
       "      <td>0</td>\n",
       "      <td>0</td>\n",
       "      <td>0</td>\n",
       "      <td>0.0</td>\n",
       "    </tr>\n",
       "  </tbody>\n",
       "</table>\n",
       "</div>"
      ],
      "text/plain": [
       "             Job   Marital Communication CallTimeOfDay  Age  Balance  \\\n",
       "803        other   married         other     afternoon   57      197   \n",
       "2322  management   married      cellular     afternoon   52      751   \n",
       "383   technician   married      cellular     afternoon   35      249   \n",
       "2790  technician   married      cellular     afternoon   49      412   \n",
       "3562  technician  divorced      cellular       morning   45     1738   \n",
       "\n",
       "      LastContactDay  LastContactMonth  NoOfContacts  DaysPassed  \\\n",
       "803               16                 6             1          -1   \n",
       "2322              14                 5             4         371   \n",
       "383               21                 8             8          -1   \n",
       "2790              19                 8             8          -1   \n",
       "3562              21                11             1         106   \n",
       "\n",
       "      PrevAttempts  CallDurationMins  Education  Default  HHInsurance  \\\n",
       "803              0                 1        2.0        0            0   \n",
       "2322             5                 2        3.0        0            0   \n",
       "383              0                 3        2.0        0            0   \n",
       "2790             0                21        2.0        0            0   \n",
       "3562             2                 1        2.0        0            0   \n",
       "\n",
       "      CarLoan  Outcome  \n",
       "803         0      0.0  \n",
       "2322        0      0.0  \n",
       "383         0      0.0  \n",
       "2790        0      0.0  \n",
       "3562        0      0.0  "
      ]
     },
     "execution_count": 83,
     "metadata": {},
     "output_type": "execute_result"
    }
   ],
   "source": [
    "processed.head()"
   ]
  },
  {
   "cell_type": "code",
   "execution_count": 30,
   "id": "spiritual-martial",
   "metadata": {},
   "outputs": [
    {
     "data": {
      "text/plain": [
       "NaN    2447\n",
       "0.0     489\n",
       "1.0     264\n",
       "Name: Outcome, dtype: int64"
      ]
     },
     "execution_count": 30,
     "metadata": {},
     "output_type": "execute_result"
    }
   ],
   "source": [
    "processed.Outcome.value_counts(dropna=False)"
   ]
  },
  {
   "cell_type": "code",
   "execution_count": 36,
   "id": "behavioral-ownership",
   "metadata": {},
   "outputs": [],
   "source": [
    "# Define individual transformers in a pipeline\n",
    "categorical_preprocessing = Pipeline([('ohe', OneHotEncoder())])\n",
    "numerical_preprocessing = Pipeline([('scaler', StandardScaler())])\n",
    "\n",
    "# Define which transformer applies to which columns\n",
    "preprocess = ColumnTransformer([\n",
    "    ('categorical_preprocessing', categorical_preprocessing, ONE_HOT_CATEGORICAL_COLUMNS),\n",
    "    ('numerical_preprocessing', numerical_preprocessing, SCALABLE_NUMERIC_COLUMNS)\n",
    "], remainder='passthrough')"
   ]
  },
  {
   "cell_type": "code",
   "execution_count": 37,
   "id": "close-carpet",
   "metadata": {},
   "outputs": [],
   "source": [
    "# Create data pipeline containing feature engineeing and encoding\n",
    "data_pipeline = Pipeline([\n",
    "    ( 'feature_engineering', feature_engineering),\n",
    "    ( \"encoder\", preprocess),\n",
    "])\n",
    "\n",
    "# Create model pipeline with xgboost classifier\n",
    "clf = Pipeline([\n",
    "    (\"pre_processing\", data_pipeline),\n",
    "    ('model', xgb\n",
    "],verbose=True)"
   ]
  },
  {
   "cell_type": "code",
   "execution_count": 38,
   "id": "biological-lightweight",
   "metadata": {
    "collapsed": true,
    "jupyter": {
     "outputs_hidden": true
    },
    "tags": []
   },
   "outputs": [
    {
     "name": "stdout",
     "output_type": "stream",
     "text": [
      "[Pipeline] .... (step 1 of 2) Processing pre_processing, total=   0.6s\n",
      "[Pipeline] ............. (step 2 of 2) Processing model, total=   1.1s\n"
     ]
    },
    {
     "data": {
      "text/plain": [
       "Pipeline(steps=[('pre_processing',\n",
       "                 Pipeline(steps=[('feature_engineering',\n",
       "                                  Pipeline(steps=[('category_trimmer',\n",
       "                                                   CategoricalLimitTransformer(columns=['Job'],\n",
       "                                                                               n=3)),\n",
       "                                                  ('add_time_duration',\n",
       "                                                   CallDurationTransformer()),\n",
       "                                                  ('add_time_of_day',\n",
       "                                                   TimeOfDayTransformer()),\n",
       "                                                  ('convert_month',\n",
       "                                                   <trainer_lib.transformers.dataframe_transformers.MonthNameTransformer object at 0x7f4e...\n",
       "                               gpu_id=-1, importance_type='gain',\n",
       "                               interaction_constraints='',\n",
       "                               learning_rate=0.300000012, max_delta_step=0,\n",
       "                               max_depth=6, min_child_weight=1, missing=nan,\n",
       "                               monotone_constraints='()', n_estimators=100,\n",
       "                               n_jobs=4, num_parallel_tree=1, random_state=0,\n",
       "                               reg_alpha=0, reg_lambda=1, scale_pos_weight=1,\n",
       "                               subsample=1, tree_method='exact',\n",
       "                               validate_parameters=1, verbosity=None))],\n",
       "         verbose=True)"
      ]
     },
     "execution_count": 38,
     "metadata": {},
     "output_type": "execute_result"
    }
   ],
   "source": [
    "clf.fit(X_train, y_train)"
   ]
  },
  {
   "cell_type": "code",
   "execution_count": 39,
   "id": "hearing-advance",
   "metadata": {
    "tags": []
   },
   "outputs": [
    {
     "data": {
      "text/plain": [
       "30"
      ]
     },
     "metadata": {},
     "output_type": "display_data"
    },
    {
     "data": {
      "text/plain": [
       "['Job_blue-collar',\n",
       " 'Job_management',\n",
       " 'Job_other',\n",
       " 'Marital_divorced',\n",
       " 'Marital_married',\n",
       " 'Marital_single',\n",
       " 'Education_primary',\n",
       " 'Education_secondary',\n",
       " 'Education_tertiary',\n",
       " 'Education_unknown',\n",
       " 'Communication_cellular',\n",
       " 'Communication_missing',\n",
       " 'Communication_telephone',\n",
       " 'Outcome_failure',\n",
       " 'Outcome_not_contacted',\n",
       " 'Outcome_other',\n",
       " 'Outcome_success',\n",
       " 'CallTimeOfDay_afternoon',\n",
       " 'CallTimeOfDay_morning',\n",
       " 'Age',\n",
       " 'Balance',\n",
       " 'LastContactDay',\n",
       " 'LastContactMonth',\n",
       " 'NoOfContacts',\n",
       " 'DaysPassed',\n",
       " 'PrevAttempts',\n",
       " 'CallDurationMins',\n",
       " 'Default',\n",
       " 'HHInsurance',\n",
       " 'CarLoan']"
      ]
     },
     "execution_count": 39,
     "metadata": {},
     "output_type": "execute_result"
    }
   ],
   "source": [
    "names = list(clf['pre_processing']['encoder'].transformers_[0][1]['ohe'].get_feature_names(ONE_HOT_CATEGORICAL_COLUMNS))\n",
    "names.extend([c for c in ALL_COLUMNS if c not in ONE_HOT_CATEGORICAL_COLUMNS])\n",
    "# .transformers_[1][1]['onehot']\\\n",
    "#                    .get_feature_names(categorical_features)\n",
    "display(len(names))\n",
    "names"
   ]
  },
  {
   "cell_type": "code",
   "execution_count": 40,
   "id": "specialized-stability",
   "metadata": {},
   "outputs": [],
   "source": [
    "preds = clf.predict(X_test) "
   ]
  },
  {
   "cell_type": "code",
   "execution_count": 41,
   "id": "behavioral-disclaimer",
   "metadata": {},
   "outputs": [
    {
     "data": {
      "text/plain": [
       "(800, 30)"
      ]
     },
     "execution_count": 41,
     "metadata": {},
     "output_type": "execute_result"
    }
   ],
   "source": [
    "clf.named_steps['pre_processing'].transform(X_test).shape"
   ]
  },
  {
   "cell_type": "code",
   "execution_count": 44,
   "id": "active-frank",
   "metadata": {},
   "outputs": [],
   "source": [
    "X_test_df = pd.DataFrame(clf.named_steps['pre_processing'].transform(X_test), columns=names)"
   ]
  },
  {
   "cell_type": "code",
   "execution_count": 45,
   "id": "unable-concept",
   "metadata": {},
   "outputs": [
    {
     "data": {
      "text/plain": [
       "(800, 30)"
      ]
     },
     "execution_count": 45,
     "metadata": {},
     "output_type": "execute_result"
    }
   ],
   "source": [
    "X_test_df.shape"
   ]
  },
  {
   "cell_type": "code",
   "execution_count": 60,
   "id": "studied-january",
   "metadata": {},
   "outputs": [
    {
     "data": {
      "image/png": "[encoded data removed]",
      "text/plain": [
       "<Figure size 576x648 with 3 Axes>"
      ]
     },
     "metadata": {},
     "output_type": "display_data"
    }
   ],
   "source": [
    "import shap\n",
    "import pandas as pd\n",
    "explainer = shap.Explainer(clf.named_steps[\"model\"])\n",
    "X_test_df = pd.DataFrame(clf.named_steps['pre_processing'].transform(X_test), columns=names)\n",
    "shap_values = explainer(X_test_df)\n",
    "\n",
    "# visualize the first prediction's explanation\n",
    "shap.plots.waterfall(shap_values[4], max_display=15)"
   ]
  },
  {
   "cell_type": "code",
   "execution_count": 58,
   "id": "substantial-dining",
   "metadata": {},
   "outputs": [
    {
     "data": {
      "image/png": "[encoded data removed]",
      "text/plain": [
       "<Figure size 2160x576 with 1 Axes>"
      ]
     },
     "metadata": {
      "needs_background": "light"
     },
     "output_type": "display_data"
    }
   ],
   "source": [
    "p = shap.plots.force(shap_values[4])\n",
    "p.matplotlib((30,8),True, 35)"
   ]
  },
  {
   "cell_type": "code",
   "execution_count": 69,
   "id": "lesbian-thesis",
   "metadata": {},
   "outputs": [
    {
     "data": {
      "text/plain": [
       "0.8175"
      ]
     },
     "metadata": {},
     "output_type": "display_data"
    },
    {
     "data": {
      "text/plain": [
       "0.8494845360824742"
      ]
     },
     "execution_count": 69,
     "metadata": {},
     "output_type": "execute_result"
    }
   ],
   "source": [
    "display(accuracy_score(y_test, preds))\n",
    "conf_matrix = confusion_matrix(y_test, preds)\n",
    "TP = conf_matrix[0,0]\n",
    "TN = conf_matrix[1,1]\n",
    "FP = conf_matrix[0,1]\n",
    "FN = conf_matrix[1,0]\n",
    "TP / (TP + 0.5 * (FP + FN))"
   ]
  },
  {
   "cell_type": "code",
   "execution_count": 65,
   "id": "married-pharmaceutical",
   "metadata": {},
   "outputs": [
    {
     "data": {
      "text/plain": [
       "array([4.36414421e-01, 1.83007717e-02, 9.54648018e-01, 7.35162497e-02,\n",
       "       6.53755665e-03, 9.99594271e-01, 8.90581071e-01, 9.99201179e-01,\n",
       "       2.85898447e-01, 4.74228323e-01, 4.54505324e-01, 9.87903118e-01,\n",
       "       7.89329648e-01, 8.65833759e-02, 9.46882784e-01, 1.41324580e-01,\n",
       "       9.67250168e-01, 8.59719515e-03, 9.99718666e-01, 3.88005376e-01,\n",
       "       9.95422781e-01, 9.63118553e-01, 1.89399719e-03, 6.49238646e-01,\n",
       "       4.07879949e-02, 9.37330246e-01, 9.95630383e-01, 6.14523888e-04,\n",
       "       9.09738779e-01, 9.98929501e-01, 9.99408662e-01, 9.89293635e-01,\n",
       "       9.88367081e-01, 9.99266267e-01, 6.68926358e-01, 1.80035949e-01,\n",
       "       9.97761905e-01, 4.68029380e-02, 9.98245358e-01, 9.96904671e-01,\n",
       "       3.55893791e-01, 3.29052210e-02, 4.25943077e-01, 1.19714737e-02,\n",
       "       9.78793979e-01, 3.32146049e-01, 9.66578722e-03, 9.75829959e-01,\n",
       "       9.99571145e-01, 9.82645273e-01, 9.99480307e-01, 9.89769220e-01,\n",
       "       9.96977329e-01, 9.81445312e-01, 5.12647390e-01, 2.87125111e-02,\n",
       "       5.06891489e-01, 4.56562638e-02, 4.83415663e-01, 9.90598321e-01,\n",
       "       9.97043312e-01, 7.22999573e-02, 9.85713661e-01, 4.52697873e-02,\n",
       "       9.82687950e-01, 4.06419635e-01, 6.09744787e-02, 9.97061133e-01,\n",
       "       9.99680281e-01, 9.90790963e-01, 5.33683538e-01, 9.97249246e-01,\n",
       "       9.88229394e-01, 5.37301898e-02, 8.08449686e-01, 1.36194050e-01,\n",
       "       9.55374062e-01, 2.69131303e-01, 9.94646907e-01, 9.97548878e-01,\n",
       "       9.31825638e-01, 5.13057113e-02, 9.41813290e-01, 9.92846668e-01,\n",
       "       5.49224973e-01, 9.47279394e-01, 9.70015228e-01, 7.83932447e-01,\n",
       "       3.16850662e-01, 8.54254365e-02, 9.65399206e-01, 3.47945809e-01,\n",
       "       5.73291183e-01, 4.56113935e-01, 2.22559690e-01, 9.93408322e-01,\n",
       "       6.88928366e-02, 9.99535799e-01, 9.99751985e-01, 2.02020884e-01,\n",
       "       5.83170056e-02, 4.17148888e-01, 6.79389477e-01, 1.12497211e-02,\n",
       "       8.73675525e-01, 9.94197905e-01, 3.48896503e-01, 6.06845617e-01,\n",
       "       8.51793587e-01, 7.89249182e-01, 9.99772370e-01, 9.99737382e-01,\n",
       "       4.02814150e-03, 1.08431578e-02, 9.30198848e-01, 6.46110415e-01,\n",
       "       5.37955463e-01, 1.97156072e-02, 9.93203700e-01, 6.71834946e-02,\n",
       "       3.51780057e-02, 9.69051838e-01, 8.35115314e-01, 9.41579580e-01,\n",
       "       7.80190408e-01, 7.73064852e-01, 8.02904963e-02, 9.89084244e-01,\n",
       "       9.87147510e-01, 9.60501432e-01, 9.93235648e-01, 5.16390800e-02,\n",
       "       9.22271907e-01, 3.83049250e-03, 2.96103954e-03, 9.94547606e-02,\n",
       "       9.98994887e-01, 9.95222688e-01, 9.99642670e-01, 8.79711032e-01,\n",
       "       7.80820847e-04, 9.72552538e-01, 8.69695544e-02, 4.98337388e-01,\n",
       "       9.92731035e-01, 6.17538750e-01, 2.32461691e-02, 1.60927415e-01,\n",
       "       7.60061502e-01, 9.78526235e-01, 3.07647407e-01, 9.99055684e-01,\n",
       "       6.76453471e-01, 3.92259300e-01, 8.71163905e-01, 9.82473314e-01,\n",
       "       9.53816533e-01, 8.07269573e-01, 1.33211017e-02, 6.67894959e-01,\n",
       "       2.95740962e-02, 9.99385059e-01, 3.36408615e-02, 9.59580123e-01,\n",
       "       7.80020595e-01, 2.05928624e-01, 4.46696937e-01, 9.99831378e-01,\n",
       "       1.18202567e-01, 9.92739379e-01, 6.41834736e-03, 8.47435713e-01,\n",
       "       1.30782127e-02, 9.98029888e-01, 2.46840537e-01, 9.18798566e-01,\n",
       "       9.99994993e-01, 2.38458514e-02, 9.50965285e-01, 9.99899030e-01,\n",
       "       9.99722898e-01, 9.97549593e-01, 1.35846734e-02, 3.20497930e-01,\n",
       "       1.21818423e-01, 9.99766886e-01, 9.94988918e-01, 9.99893844e-01,\n",
       "       9.84733045e-01, 4.31622505e-01, 9.23782229e-01, 9.94676948e-01,\n",
       "       9.97184634e-01, 5.38812280e-02, 5.59954047e-02, 6.82156444e-01,\n",
       "       9.97687340e-01, 4.17171240e-01, 3.27538550e-01, 9.25705731e-01,\n",
       "       8.09034705e-01, 6.80699348e-02, 9.98494744e-01, 2.14377999e-01,\n",
       "       9.98121381e-01, 9.99593735e-01, 9.99434233e-01, 5.51040173e-02,\n",
       "       3.29303801e-01, 5.50953031e-01, 1.11399293e-02, 9.97888446e-01,\n",
       "       9.98143137e-01, 7.67517030e-01, 9.99825954e-01, 1.19143128e-01,\n",
       "       9.97177839e-01, 9.97795999e-01, 7.34905362e-01, 7.92762935e-01,\n",
       "       9.96890724e-01, 1.42296851e-01, 7.56179571e-01, 6.44925833e-02,\n",
       "       5.54831386e-01, 9.99616027e-01, 6.05062842e-02, 9.98005033e-01,\n",
       "       9.98236954e-01, 9.91306067e-01, 7.53754914e-01, 9.31903243e-01,\n",
       "       9.70712721e-01, 2.06506431e-01, 9.81616318e-01, 2.73081660e-02,\n",
       "       9.94822800e-01, 6.18709207e-01, 8.52221251e-03, 2.63455987e-01,\n",
       "       9.99916017e-01, 1.39639318e-01, 6.84362054e-02, 5.99093556e-01,\n",
       "       7.09211826e-03, 8.93348455e-03, 5.91246843e-01, 2.06142664e-02,\n",
       "       1.66508615e-01, 9.60012436e-01, 9.98914242e-01, 5.74472904e-01,\n",
       "       2.28234529e-02, 9.98829961e-01, 9.81770933e-01, 9.92645681e-01,\n",
       "       1.39898062e-02, 1.75970793e-02, 9.83525872e-01, 3.25620055e-01,\n",
       "       9.99831259e-01, 3.10982943e-01, 8.91218126e-01, 9.96458411e-01,\n",
       "       9.35432911e-01, 9.98729825e-01, 8.85082603e-01, 2.03878820e-01,\n",
       "       9.95662093e-01, 5.60377717e-01, 9.99847651e-01, 2.10265458e-01,\n",
       "       9.90299702e-01, 2.94744968e-02, 9.97761548e-01, 8.81815851e-01,\n",
       "       1.94860935e-01, 9.73010600e-01, 3.13469350e-01, 9.95736957e-01,\n",
       "       2.50991106e-01, 5.25266051e-01, 2.12845802e-02, 9.99942005e-01,\n",
       "       9.94369149e-01, 1.33422017e-02, 1.86223388e-02, 2.60643363e-01,\n",
       "       5.59050202e-01, 9.99876499e-01, 2.73139000e-01, 7.17401505e-03,\n",
       "       9.15217996e-02, 1.10424399e-01, 9.97734964e-01, 1.33366346e-01,\n",
       "       2.57177949e-02, 2.48857141e-02, 9.97593462e-01, 9.42221582e-01,\n",
       "       7.16287732e-01, 9.99699771e-01, 1.10572517e-01, 9.99901652e-01,\n",
       "       9.76841688e-01, 9.99571443e-01, 8.43375921e-03, 3.40867043e-03,\n",
       "       5.79130292e-01, 5.59746623e-02, 2.25411594e-01, 6.50700212e-01,\n",
       "       6.35844469e-03, 9.82818365e-01, 8.47102761e-01, 9.70916092e-01,\n",
       "       9.89552140e-02, 1.76087797e-01, 9.99589741e-01, 4.34185743e-01,\n",
       "       9.96171355e-01, 9.57479477e-01, 4.66048717e-03, 9.69123363e-01,\n",
       "       3.36794853e-02, 7.31012583e-01, 4.99684215e-02, 9.26704526e-01,\n",
       "       3.64368558e-02, 2.16799974e-03, 9.89451945e-01, 9.77111638e-01,\n",
       "       9.88920331e-01, 9.94244933e-01, 2.33924389e-03, 2.24334002e-03,\n",
       "       8.56703520e-02, 9.96527255e-01, 9.34654415e-01, 8.14968228e-01,\n",
       "       4.85419393e-01, 1.27241731e-01, 9.93617237e-01, 9.24059153e-02,\n",
       "       2.94257462e-01, 1.78713739e-01, 9.99737144e-01, 9.99656558e-01,\n",
       "       9.99450147e-01, 5.95930457e-01, 9.84290421e-01, 8.56078148e-01,\n",
       "       5.17312884e-02, 9.98034954e-01, 9.66934144e-01, 7.54807532e-01,\n",
       "       9.95178103e-01, 9.25468743e-01, 6.59801245e-01, 7.14146972e-01,\n",
       "       4.93169069e-01, 9.97601151e-01, 2.72396207e-01, 9.96734500e-01,\n",
       "       9.97520864e-01, 9.99659896e-01, 4.01040018e-01, 9.98849809e-01,\n",
       "       9.16267633e-01, 2.68003881e-01, 6.37615919e-02, 9.81677055e-01,\n",
       "       7.39689469e-02, 4.59777057e-01, 9.01072741e-01, 8.47955823e-01,\n",
       "       1.25044286e-01, 4.06184256e-01, 9.97405291e-01, 9.22645807e-01,\n",
       "       1.03140831e-01, 9.73789752e-01, 6.97566032e-01, 9.69174147e-01,\n",
       "       9.98267889e-01, 9.98101175e-01, 8.86564851e-01, 8.90286446e-01,\n",
       "       2.78712749e-01, 9.98318493e-01, 1.65423334e-01, 9.99740958e-01,\n",
       "       8.87768090e-01, 9.96860385e-01, 3.68639767e-01, 6.39780760e-02,\n",
       "       5.99308610e-02, 4.07364428e-01, 5.34553647e-01, 9.99914289e-01,\n",
       "       9.76226211e-01, 9.96684313e-01, 9.50953722e-01, 5.47763109e-02,\n",
       "       1.81379914e-02, 2.99934328e-01, 5.62155843e-02, 2.48274505e-01,\n",
       "       9.72803831e-01, 9.98286426e-01, 1.42432153e-01, 5.99747598e-01,\n",
       "       9.95964825e-01, 9.87811983e-01, 1.41331553e-02, 8.85166049e-01,\n",
       "       9.71786261e-01, 9.90832329e-01, 2.19271779e-02, 9.95576859e-01,\n",
       "       9.75592554e-01, 4.27404583e-01, 8.53363633e-01, 1.55402422e-01,\n",
       "       5.25773764e-02, 9.98351574e-01, 9.99507904e-01, 4.03289795e-02,\n",
       "       9.98220146e-01, 6.98518872e-01, 9.81527865e-01, 9.85489130e-01,\n",
       "       1.86100662e-01, 3.76357973e-01, 5.15400887e-01, 7.10339308e-01,\n",
       "       9.88565147e-01, 9.47377920e-01, 9.96801913e-01, 9.99908268e-01,\n",
       "       9.61643517e-01, 4.47006464e-01, 1.32716835e-01, 2.68848538e-02,\n",
       "       9.99281526e-01, 9.97994006e-01, 5.41073561e-01, 9.97902989e-01,\n",
       "       9.99739647e-01, 2.62870967e-01, 9.97952402e-01, 1.37400031e-02,\n",
       "       9.16526079e-01, 9.95694280e-01, 5.43392301e-02, 2.33843565e-01,\n",
       "       2.65797377e-02, 1.19005024e-01, 8.07968736e-01, 6.35690570e-01,\n",
       "       1.91189051e-02, 9.99884784e-01, 9.65503156e-01, 9.96842086e-01,\n",
       "       8.96124840e-02, 9.46434081e-01, 5.73350608e-01, 1.13487244e-03,\n",
       "       1.48313761e-01, 9.99826789e-01, 3.11555386e-01, 8.32497954e-01,\n",
       "       9.98553932e-01, 9.86154258e-01, 9.96535063e-01, 6.67940259e-01,\n",
       "       7.85445571e-02, 9.89706993e-01, 7.83865690e-01, 9.71530795e-01,\n",
       "       9.14253354e-01, 9.99639750e-01, 5.30480146e-02, 4.32199240e-03,\n",
       "       9.94766653e-01, 4.49552655e-01, 9.98494208e-01, 9.68757629e-01,\n",
       "       8.77970457e-03, 9.98366237e-01, 4.51421618e-01, 9.86750007e-01,\n",
       "       9.91200745e-01, 9.97521460e-01, 9.99800563e-01, 6.56994581e-01,\n",
       "       8.39576423e-01, 9.97172952e-01, 3.12901437e-01, 1.48559690e-01,\n",
       "       9.58139777e-01, 2.24255621e-01, 8.28434885e-01, 4.37664807e-01,\n",
       "       7.74848878e-01, 9.93362367e-01, 9.53499079e-01, 8.92220914e-01,\n",
       "       9.99726593e-01, 8.35838318e-01, 5.47906518e-01, 4.49083984e-01,\n",
       "       4.95662332e-01, 9.99948740e-01, 9.91950035e-01, 3.87386918e-01,\n",
       "       1.75802886e-01, 2.76915491e-01, 1.41761303e-02, 9.86274004e-01,\n",
       "       9.95215774e-01, 9.98079598e-01, 9.99833822e-01, 4.66154575e-01,\n",
       "       3.75304639e-01, 9.81126666e-01, 1.52081251e-02, 9.99061823e-01,\n",
       "       7.58301198e-01, 5.60256720e-01, 6.72063649e-01, 6.75988197e-03,\n",
       "       9.99381900e-01, 9.98352051e-01, 3.10919166e-01, 9.99627233e-01,\n",
       "       5.86733222e-01, 8.99512291e-01, 2.79731393e-01, 8.17813993e-01,\n",
       "       9.92549479e-01, 1.16770864e-01, 8.19303393e-01, 5.31798601e-03,\n",
       "       9.99532521e-01, 9.98823106e-01, 2.39012718e-01, 9.97365117e-01,\n",
       "       7.37667084e-03, 9.56431806e-01, 1.10567868e-01, 9.99023736e-01,\n",
       "       9.98152196e-01, 9.97713923e-01, 2.30587125e-02, 7.33902335e-01,\n",
       "       8.08612704e-02, 8.86756182e-03, 9.97562706e-01, 1.62286103e-01,\n",
       "       9.91930306e-01, 6.67934537e-01, 9.99144912e-01, 9.95886445e-01,\n",
       "       9.45278943e-01, 9.99710977e-01, 9.94730949e-01, 4.26813185e-01,\n",
       "       2.88774371e-01, 9.99598980e-01, 9.35559809e-01, 4.08427358e-01,\n",
       "       8.56623888e-01, 2.16699064e-01, 9.99151170e-01, 4.33551788e-01,\n",
       "       6.10013604e-02, 5.89323044e-03, 7.38195837e-01, 9.79150653e-01,\n",
       "       9.98114467e-01, 1.63573027e-03, 9.96857226e-01, 9.04325426e-01,\n",
       "       1.93013012e-01, 9.83837843e-01, 9.98124182e-01, 3.31580460e-01,\n",
       "       9.83072996e-01, 9.94538069e-01, 9.99195397e-01, 9.99491453e-01,\n",
       "       4.61194336e-01, 7.08000660e-02, 2.52574682e-03, 9.90087211e-01,\n",
       "       7.61797190e-01, 9.75899637e-01, 9.94049489e-01, 3.36527884e-01,\n",
       "       2.94112980e-01, 9.80931640e-01, 9.88265634e-01, 9.93358910e-01,\n",
       "       2.73010671e-01, 3.15425396e-02, 9.54651833e-03, 9.99460220e-01,\n",
       "       9.99967813e-01, 2.32191384e-01, 9.99447465e-01, 9.05390918e-01,\n",
       "       9.71091092e-01, 9.99812484e-01, 1.86852813e-01, 1.88394189e-02,\n",
       "       9.97642636e-01, 9.98790860e-01, 3.00395489e-02, 1.43653750e-02,\n",
       "       9.12875533e-02, 4.86189246e-01, 3.94279480e-01, 9.99690235e-01,\n",
       "       3.18919420e-02, 9.57563281e-01, 7.24894524e-01, 4.26010489e-02,\n",
       "       7.24526644e-02, 9.97517288e-01, 2.53974080e-01, 1.73301399e-01,\n",
       "       9.94828463e-01, 6.84040368e-01, 5.81489563e-01, 2.74906576e-01,\n",
       "       9.99951839e-01, 5.72292089e-01, 1.66578174e-01, 1.13238633e-01,\n",
       "       9.99907434e-01, 6.70871139e-02, 2.89596498e-01, 9.58940923e-01,\n",
       "       9.80924785e-01, 8.48421931e-01, 9.10359919e-01, 9.95935977e-01,\n",
       "       9.22125220e-01, 4.98594046e-02, 2.69603729e-03, 9.68348026e-01,\n",
       "       8.98355246e-02, 9.90419686e-01, 9.99333918e-01, 3.45323086e-02,\n",
       "       9.96913373e-01, 1.31137371e-02, 3.31887007e-02, 9.62102652e-01,\n",
       "       7.47720599e-02, 6.55998945e-01, 9.01053488e-01, 9.99028206e-01,\n",
       "       3.66116107e-01, 6.15696311e-01, 3.16373706e-02, 1.65187597e-01,\n",
       "       9.92969275e-01, 5.78627348e-01, 2.57813573e-01, 9.87548411e-01,\n",
       "       1.07064724e-01, 9.99920130e-01, 8.71695161e-01, 9.98293638e-01,\n",
       "       9.80112672e-01, 4.26872969e-01, 9.88680422e-01, 7.36296177e-04,\n",
       "       5.25702834e-01, 5.02161264e-01, 9.33822393e-02, 9.05567825e-01,\n",
       "       5.54905653e-01, 9.90848601e-01, 9.98224854e-01, 9.30784166e-01,\n",
       "       9.99306500e-01, 5.29907584e-01, 9.96394813e-01, 3.01434755e-01,\n",
       "       8.48760724e-01, 9.70665932e-01, 8.90310824e-01, 3.06468248e-01,\n",
       "       3.48256886e-01, 1.22857392e-01, 2.28892386e-01, 9.48347867e-01,\n",
       "       3.40018868e-02, 3.16208065e-01, 6.83960915e-01, 9.80587840e-01,\n",
       "       1.40932024e-01, 9.96516466e-01, 4.58578467e-01, 1.99778855e-01,\n",
       "       2.28064597e-01, 1.46294832e-01, 9.60758567e-01, 9.93337750e-01,\n",
       "       2.39027739e-02, 9.08068061e-01, 6.60471559e-01, 1.07875645e-01,\n",
       "       8.47584486e-01, 9.78762150e-01, 9.26945746e-01, 7.60797560e-01,\n",
       "       9.91440058e-01, 1.59943819e-01, 4.62216437e-01, 3.39496136e-03,\n",
       "       4.60457265e-01, 9.98059154e-01, 9.81302023e-01, 9.65065598e-01,\n",
       "       9.86191034e-01, 8.05604458e-03, 1.78793490e-01, 6.87664986e-01,\n",
       "       9.99081135e-03, 7.36699820e-01, 9.40343380e-01, 6.33658171e-01,\n",
       "       5.45101643e-01, 9.99749482e-01, 5.76167107e-02, 9.99535799e-01,\n",
       "       7.52717257e-02, 9.96611118e-01, 9.03262496e-01, 9.89983261e-01,\n",
       "       2.98220217e-01, 8.32473993e-01, 9.96304393e-01, 5.17439246e-02,\n",
       "       9.99779344e-01, 9.94133294e-01, 6.47967219e-01, 9.89194632e-01,\n",
       "       7.55331993e-01, 9.91371989e-01, 9.97332036e-01, 9.99460936e-01,\n",
       "       7.74805129e-01, 9.89083230e-01, 9.95593190e-01, 1.10639930e-01,\n",
       "       1.36625290e-01, 9.74785566e-01, 8.41215849e-02, 5.48170447e-01,\n",
       "       3.51266265e-02, 1.81939721e-01, 3.25546384e-01, 9.99061167e-01,\n",
       "       2.16854930e-01, 6.42801702e-01, 2.92070568e-01, 9.97670531e-01,\n",
       "       9.53316927e-01, 5.03841639e-02, 9.93315399e-01, 2.10169554e-02,\n",
       "       9.99186754e-01, 9.72444117e-01, 8.50495040e-01, 9.86115158e-01,\n",
       "       9.11217928e-02, 8.63063633e-01, 8.92493069e-01, 2.80874968e-03,\n",
       "       9.99894083e-01, 9.77348208e-01, 3.20011973e-02, 5.88709116e-03,\n",
       "       9.96526539e-01, 9.99428689e-01, 9.97185588e-01, 7.84268737e-01,\n",
       "       3.44838500e-02, 1.11619234e-02, 3.43055844e-01, 6.33700609e-01,\n",
       "       3.78883481e-02, 9.98024344e-01, 9.95447278e-01, 6.82383776e-03],\n",
       "      dtype=float32)"
      ]
     },
     "execution_count": 65,
     "metadata": {},
     "output_type": "execute_result"
    }
   ],
   "source": [
    "clf.predict_proba(X_test)[:,0]"
   ]
  },
  {
   "cell_type": "code",
   "execution_count": null,
   "id": "prerequisite-egyptian",
   "metadata": {},
   "outputs": [],
   "source": []
  }
 ],
 "metadata": {
  "kernelspec": {
   "display_name": "Python 3",
   "language": "python",
   "name": "python3"
  },
  "language_info": {
   "codemirror_mode": {
    "name": "ipython",
    "version": 3
   },
   "file_extension": ".py",
   "mimetype": "text/x-python",
   "name": "python",
   "nbconvert_exporter": "python",
   "pygments_lexer": "ipython3",
   "version": "3.9.2"
  }
 },
 "nbformat": 4,
 "nbformat_minor": 5
}
